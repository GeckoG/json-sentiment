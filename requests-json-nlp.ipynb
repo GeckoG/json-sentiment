{
 "cells": [
  {
   "cell_type": "markdown",
   "metadata": {},
   "source": [
    "# Web Mining and Applied NLP (44-620)\n",
    "\n",
    "## Requests, JSON, and NLP\n",
    "\n",
    "### Student Name: Matt Goeckel\n",
    "https://github.com/GeckoG/json-sentiment\n",
    "\n",
    "Perform the tasks described in the Markdown cells below.  When you have completed the assignment make sure your code cells have all been run (and have output beneath them) and ensure you have committed and pushed ALL of your changes to your assignment repository.\n",
    "\n",
    "Make sure you have [installed spaCy and its pipeline](https://spacy.io/usage#quickstart) and [spaCyTextBlob](https://spacy.io/universe/project/spacy-textblob)\n",
    "\n",
    "Every question that requires you to write code will have a code cell underneath it; you may either write your entire solution in that cell or write it in a python file (`.py`), then import and run the appropriate code to answer the question.\n",
    "\n",
    "This assignment requires that you write additional files (either JSON or pickle files); make sure to submit those files in your repository as well."
   ]
  },
  {
   "cell_type": "markdown",
   "metadata": {},
   "source": [
    "## Question 1"
   ]
  },
  {
   "cell_type": "markdown",
   "metadata": {},
   "source": [
    "1. The following code accesses the [lyrics.ovh](https://lyricsovh.docs.apiary.io/#reference/0/lyrics-of-a-song/search) public api, searches for the lyrics of a song, and stores it in a dictionary object.  Write the resulting json to a file (either a JSON file or a pickle file; you choose). You will read in the contents of this file for future questions so we do not need to frequently access the API."
   ]
  },
  {
   "cell_type": "code",
   "execution_count": 64,
   "metadata": {},
   "outputs": [
    {
     "name": "stdout",
     "output_type": "stream",
     "text": [
      "I cannot spare water or wine,\n",
      "Tobacco-leaf, or poppy, or rose;\n",
      "From the earth-poles to the Line,\n",
      "All between that works or grows,\n",
      "Every thing is kin of mine.\n",
      "\n",
      "Give me agates for my meat,\n",
      "Give me cantharids to eat,\n",
      "From air and ocean bring me foods,\n",
      "From all zones and altitudes.\n",
      "\n",
      "From all natures, sharp and slimy,\n",
      "Salt and basalt, wild and tame,\n",
      "Tree, and lichen, ape, sea-lion,\n",
      "Bird and reptile be my game.\n",
      "\n",
      "Ivy for my fillet band,\n",
      "Blinding dogwood in my hand,\n",
      "Hemlock for my sherbet cull me,\n",
      "And the prussic juice to lull me,\n",
      "Swing me in the upas boughs,\n",
      "Vampire-fanned, when I carouse.\n",
      "\n",
      "Too long shut in strait and few,\n",
      "Thinly dieted on dew,\n",
      "I will use the world, and sift it,\n",
      "To a thousand humors shift it,\n",
      "As you spin a cherry.\n",
      "O doleful ghosts, and goblins merry,\n",
      "O all you virtues, methods, mights;\n",
      "Means, appliances, delights;\n",
      "Reputed wrongs, and braggart rights;\n",
      "Smug routine, and things allowed;\n",
      "Minorities, things under cloud!\n",
      "Hither! take me, use me, fill me,\n",
      "Vein and artery, though ye kill me;\n",
      "God! I will not be an owl,\n",
      "But sun me in the Capitol.\n"
     ]
    }
   ],
   "source": [
    "import requests\n",
    "import json\n",
    "\n",
    "AUTHOR='Ralph Waldo Emerson'\n",
    "POEM = 'Mithridates'\n",
    "\n",
    "#only certain poets and titles are available\n",
    "#to see the available poets, go to (in a web browser)\n",
    "# https://poetrydb.org/author\n",
    "#To see which poems that author has available, go to \n",
    "# https://poetrydb.org/author/AUTHOR NAME\n",
    "# e.g.: https://poetrydb.org/author/Edgar Allan Poe\n",
    "#The spaces will get handled by your web browser\n",
    "\n",
    "# A cool pythonism (introduced in Python 3): f strings\n",
    "# https://docs.python.org/3/tutorial/inputoutput.html#tut-f-strings\n",
    "\n",
    "\n",
    "URL = f'https://poetrydb.org/author,title/{AUTHOR};{POEM}'\n",
    "result = json.loads(requests.get(URL).text)\n",
    "poem = '\\n'.join(result[0]['lines'])\n",
    "print(poem)\n",
    "\n",
    "with open('poem.txt', 'w') as file:\n",
    "    file.write(poem)\n",
    "    #print(\"success\")"
   ]
  },
  {
   "cell_type": "markdown",
   "metadata": {},
   "source": [
    "## Question 2"
   ]
  },
  {
   "cell_type": "markdown",
   "metadata": {},
   "source": [
    "2. Read in the contents of your file.  Print the lyrics of the song (not the entire dictionary!) and use spaCyTextBlob to perform sentiment analysis on the lyrics.  Print the polarity score of the sentiment analysis.  Given that the range of the polarity score is `[-1.0,1.0]` which corresponds to how positive or negative the text in question is, do you think the lyrics have a more positive or negative connotaion?  Answer this question in a comment in your code cell."
   ]
  },
  {
   "cell_type": "code",
   "execution_count": 65,
   "metadata": {},
   "outputs": [
    {
     "name": "stdout",
     "output_type": "stream",
     "text": [
      "-0.13411458333333334\n"
     ]
    }
   ],
   "source": [
    "import spacy\n",
    "from spacytextblob.spacytextblob import SpacyTextBlob\n",
    "\n",
    "nlp = spacy.load('en_core_web_sm')\n",
    "nlp.add_pipe('spacytextblob')\n",
    "doc = nlp(poem)\n",
    "polarity = doc._.blob.polarity                               # Polarity: -0.13411458333333334\n",
    "subjectivity = doc._.blob.subjectivity                       # Subjectivity: 0.5083333333333333\n",
    "assessments = doc._.blob.sentiment_assessments.assessments   \n",
    "ngrams = doc._.blob.ngrams()\n",
    "print(polarity)\n",
    "\n",
    "## This polarity score of -0.13 looks fairly neutral. The example text from our reading had a similar\n",
    "## score of -0.125 and it had both positive and negative sentences, ultimately balancing out to what\n",
    "## I would consider to be almost neutral with a slight bit of negativity, just as the polarity suggests.\n",
    "## With this score being nearly the same, I would say it also is almost neutral with a slight bit of\n",
    "## negativity."
   ]
  },
  {
   "cell_type": "markdown",
   "metadata": {},
   "source": [
    "## Question 3"
   ]
  },
  {
   "cell_type": "markdown",
   "metadata": {},
   "source": [
    "3. Write a function that takes an artist, song, and filename, accesses the lyrics.ovh api to get the song lyrics, and writes the results to the specified filename.  Test this function by getting the lyrics to any four songs of your choice and storing them in different files."
   ]
  },
  {
   "cell_type": "code",
   "execution_count": 66,
   "metadata": {},
   "outputs": [
    {
     "name": "stdout",
     "output_type": "stream",
     "text": [
      "success\n",
      "success\n",
      "success\n"
     ]
    }
   ],
   "source": [
    "def getPoem(author, title, filename):\n",
    "    URL = f'https://poetrydb.org/author,title/{author};{title}'\n",
    "    result = json.loads(requests.get(URL).text)\n",
    "    poem = '\\n'.join(result[0]['lines'])\n",
    "\n",
    "    with open(f'{filename}.txt', 'w') as file:\n",
    "        file.write(poem)\n",
    "        print(\"success\")\n",
    "\n",
    "getPoem('Amy Levy', 'The Dream', 'thedream')\n",
    "getPoem('Thomas Moore', 'Though the Last Glimpse of Erin With Sorrow I See', 'mooresad')\n",
    "getPoem('Sir Walter Scott', 'Harp of the North, Farewell!', 'magicpoem')\n"
   ]
  },
  {
   "cell_type": "markdown",
   "metadata": {},
   "source": [
    "## Question 4"
   ]
  },
  {
   "cell_type": "markdown",
   "metadata": {},
   "source": [
    "4. Write a function that takes the name of a file that contains song lyrics, loads the file, performs sentiment analysis, and returns the polarity score.  Use this function to print the polarity scores (with the name of the song) of the three files you created in question 3.  Does the reported polarity match your understanding of the song's lyrics? Why or why not do you think that might be?  Answer the questions in either a comment in the code cell or a markdown cell under the code cell."
   ]
  },
  {
   "cell_type": "code",
   "execution_count": 68,
   "metadata": {},
   "outputs": [
    {
     "name": "stdout",
     "output_type": "stream",
     "text": [
      "The Dream: 0.07712121212121213\n",
      "Though the Last Glimpse of Erin With Sorrow I See: -0.08636363636363635\n",
      "Harp of the North, Farewell!: -0.07067901234567903\n"
     ]
    }
   ],
   "source": [
    "def sentimentAnalyze(filename):\n",
    "    with open(f'{filename}.txt', 'r') as file:\n",
    "        #print(file.read())\n",
    "        nlp = spacy.load('en_core_web_sm')\n",
    "        nlp.add_pipe('spacytextblob')\n",
    "        doc = nlp(file.read())\n",
    "        return doc._.blob.polarity                           \n",
    "\n",
    "print('The Dream: ' + str(sentimentAnalyze('thedream')))\n",
    "print('Though the Last Glimpse of Erin With Sorrow I See: ' + str(sentimentAnalyze('mooresad')))\n",
    "print('Harp of the North, Farewell!: ' + str(sentimentAnalyze('magicpoem')))"
   ]
  },
  {
   "cell_type": "markdown",
   "metadata": {},
   "source": [
    "I chose these three poems because I thought them to be happy, sad, and neutral. I expected to see a significantly positive polarity for \"The Dream\" and negative for \"Though the Last...\". However, that really wasn't the case. In all three instances, the sentiment was fairly neutral. Yes, \"The Dream\" was the most positive, \"Though the Last...\" was most negative, and \"Harp of the North, Farewell\" was the closest to neutral, but not to the extent I was expecting.\n",
    "\n",
    "I think the reasoning for this may be the old English vocabulary used by the poets. Spacytextblob is likely not trained on old English, so it doesn't know what to think of many of the words that are used. While it may pick up on a few things, it can't capture the full sentiment due to the lack of training on texts that use this kind of speech. This would explain the order being correct, but not the magnitude of each."
   ]
  }
 ],
 "metadata": {
  "kernelspec": {
   "display_name": "Python 3.10.7 64-bit",
   "language": "python",
   "name": "python3"
  },
  "language_info": {
   "codemirror_mode": {
    "name": "ipython",
    "version": 3
   },
   "file_extension": ".py",
   "mimetype": "text/x-python",
   "name": "python",
   "nbconvert_exporter": "python",
   "pygments_lexer": "ipython3",
   "version": "3.10.7"
  },
  "vscode": {
   "interpreter": {
    "hash": "56ac80815800fbc2a67ceaf58126df0cf77c5048f624ddd1fb56817454a3d855"
   }
  }
 },
 "nbformat": 4,
 "nbformat_minor": 4
}
